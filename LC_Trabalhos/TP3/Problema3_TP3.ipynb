{
 "cells": [
  {
   "cell_type": "markdown",
   "id": "22c63d32",
   "metadata": {},
   "source": [
    "# Trabalho TP3 Ex3\n",
    "## Grupo 27\n",
    "### LCC 2024/2025\n",
    "#### Rafaela Antunes Pereira A102527\n",
    "#### Gonçalo Gonçalves Barroso A102931\n",
    "#### Ricardo Eusébio Cerqueira A102878"
   ]
  },
  {
   "cell_type": "markdown",
   "id": "54fe57fb",
   "metadata": {},
   "source": [
    "### Explicação do problema\n",
    "Neste trabalho, pretende-se que tenho em conta o primeiro problema do TP2 relativo À descrição da cifra A5/1, ignorando a componente de geração final da chave.Antes de começar, identificamos que o SFOTS é baseado em três registos de deslocamento de comprimento fixo: X0, X1 e X2, com tamanhos de 19, 22 e 23 bits, respetivamente.\n",
    "\n",
    "A condição inicial é dada por:\n",
    "\n",
    "$$\\,\\mathsf{I} \\;\\equiv\\; (\\mathsf{X}_0 > 0)\\,\\land\\,(\\mathsf{X}_1 > 0)\\,\\land\\,(\\mathsf{X}_2 > 0)\\quad$$\n",
    "A condição de erro (estado inválido) é o complemento da inicial:\n",
    "\n",
    "\n",
    " $$\\quad \\mathsf{E}\\;\\equiv\\;\\neg\\,\\mathsf{I}$$\n",
    "\n",
    "### a)Codifique em “z3”  o SFOTS assim definido.\n"
   ]
  },
  {
   "cell_type": "code",
   "execution_count": 1,
   "id": "c703ddda",
   "metadata": {},
   "outputs": [],
   "source": [
    "from pysmt.shortcuts import *\n",
    "from pysmt.typing import INT\n",
    "from z3 import *\n",
    "\n",
    "\n",
    " # Usando Z3 diretamente para interpolação\n",
    "import itertools"
   ]
  },
  {
   "cell_type": "markdown",
   "id": "fec905ac",
   "metadata": {},
   "source": [
    " Iniciamos com a execução de uma função chamada `declare`, cujo objetivo é declarar as variáveis que representam o estado do sistema num dado instante \\(i\\). Cada registo é modelado como um vetor de bits, o que permite capturar de forma precisa o comportamento e os valores binários associados ao sistema nesse instante específico."
   ]
  },
  {
   "cell_type": "code",
   "execution_count": 2,
   "id": "62c68f8f",
   "metadata": {},
   "outputs": [],
   "source": [
    "def declare(i):\n",
    "    \n",
    "      return {\n",
    "        'X0': BitVec(f'X0_{i}', 19),\n",
    "        'X1': BitVec(f'X1_{i}', 22),\n",
    "        'X2': BitVec(f'X2_{i}', 23)\n",
    "    }"
   ]
  },
  {
   "cell_type": "markdown",
   "id": "be99fcb1",
   "metadata": {},
   "source": [
    "Posteriormente, definiram-se as condições inicial e de erro. \n",
    "\n",
    "A condição inicial é satisfeita apenas se todos os registos tiverem valores positivos. Já a condição de erro ocorre sempre que a condição inicial não é satisfeita, ou seja, quando pelo menos um dos registos apresenta um valor que não seja positivo."
   ]
  },
  {
   "cell_type": "code",
   "execution_count": 3,
   "id": "ea98a6a3",
   "metadata": {},
   "outputs": [],
   "source": [
    "def init(state):\n",
    "    return And(state['X0'] > 0,state['X1'] > 0,state['X2'] > 0)\n",
    "def error(state):\n",
    "    return Not(init(state))"
   ]
  },
  {
   "cell_type": "markdown",
   "id": "f479ca14",
   "metadata": {},
   "source": [
    "De seguida  a função trans, que descreve a transição entre dois estados em um sistema de registros. A função utiliza operações bit a bit para calcular a transição entre os estados atuais (curr) e os estados próximos (prox) para três registradores (X0, X1 e X2)"
   ]
  },
  {
   "cell_type": "code",
   "execution_count": 4,
   "id": "5cf2e7a4",
   "metadata": {},
   "outputs": [],
   "source": [
    "def trans(atual, proximo):\n",
    "    # Extrair bits de controlo\n",
    "    controlo_1 = Extract(8, 8, atual['X0'])\n",
    "    controlo_2 = Extract(10, 10, atual['X1'])\n",
    "    controlo_3 = Extract(10, 10, atual['X2'])\n",
    "\n",
    "    # Condição de maioria\n",
    "    maioria = Or(controlo_1 == controlo_2, controlo_1 == controlo_3, controlo_2 == controlo_3)\n",
    "\n",
    "    # Transição para X0\n",
    "    feedback_X0 = Extract(18, 18, atual['X0']) ^ Extract(17, 17, atual['X0']) ^ Extract(16, 16, atual['X0']) ^ Extract(13, 13, atual['X0'])\n",
    "    atualizacao_X0 = Concat(feedback_X0, Extract(18, 1, atual['X0']))\n",
    "    t_X0 = If(maioria, proximo['X0'] == atualizacao_X0, proximo['X0'] == atual['X0'])\n",
    "\n",
    "    # Transição para X1\n",
    "    feedback_X1 = Extract(21, 21, atual['X1']) ^ Extract(20, 20, atual['X1'])\n",
    "    atualizacao_X1 = Concat(feedback_X1, Extract(21, 1, atual['X1']))\n",
    "    t_X1 = If(maioria, proximo['X1'] == atualizacao_X1, proximo['X1'] == atual['X1'])\n",
    "\n",
    "    # Transição para X2\n",
    "    feedback_X2 = Extract(22, 22, atual['X2']) ^ Extract(21, 21, atual['X2']) ^ Extract(20, 20, atual['X2']) ^ Extract(7, 7, atual['X2'])\n",
    "    atualizacao_X2 = Concat(feedback_X2, Extract(22, 1, atual['X2']))\n",
    "    t_X2 = If(maioria, proximo['X2'] == atualizacao_X2, proximo['X2'] == atual['X2'])\n",
    "\n",
    "    # Retornar a condição final\n",
    "    return And(t_X0, t_X1, t_X2)\n"
   ]
  },
  {
   "cell_type": "markdown",
   "id": "e809ff0a",
   "metadata": {},
   "source": [
    "Por fim, implementamos uma função chamada `gera_traco` que utiliza o solver Z3 para verificar a evolução de um sistema de transições entre estados. O objetivo da função é determinar se é possível ou não alcançar um estado de erro ao longo de uma sequência de transições. Caso o estado de erro não seja alcançado, a função imprime os valores dos registradores (LFSRs) em cada estado."
   ]
  },
  {
   "cell_type": "code",
   "execution_count": 5,
   "id": "8a2a64b1",
   "metadata": {},
   "outputs": [],
   "source": [
    "def gera_traco(init, error, trans, k):\n",
    "    states = [declare(i) for i in range(k)]\n",
    "    solver = Solver()\n",
    "\n",
    "    # Adicionar a condição inicial\n",
    "    solver.add(init(states[0]))\n",
    "\n",
    "    # Garantir que nenhum estado seja de erro\n",
    "    for i in range(k):\n",
    "        solver.add(Not(error(states[i])))\n",
    "\n",
    "    # Adicionar transições entre estados\n",
    "    for i in range(k-1):\n",
    "        solver.add(trans(states[i], states[i+1]))\n",
    "\n",
    "    \n",
    "    if solver.check() == sat:\n",
    "        print(\"Estado de erro não é alcançável\")\n",
    "        model = solver.model()\n",
    "        for i in range(k):\n",
    "            print(f\"\\nEstado {i + 1}:\")\n",
    "            LFSR1val = model.evaluate(states[i]['X0']).as_long()\n",
    "            LFSR2val = model.evaluate(states[i]['X1']).as_long()\n",
    "            LFSR3val = model.evaluate(states[i]['X2']).as_long()\n",
    "            print(f\"LFSR 0 = {bin(LFSR1val)[2:].zfill(19)}\")  # Formato de 19 bits\n",
    "            print(f\"LFSR 1 = {bin(LFSR2val)[2:].zfill(22)}\")  # Formato de 22 bits\n",
    "            print(f\"LFSR 2 = {bin(LFSR3val)[2:].zfill(23)}\")  # Formato de 23 bits\n",
    "    else:\n",
    "        print(\"Estado de erro é alcançável\")\n",
    "\n",
    "\n"
   ]
  },
  {
   "cell_type": "code",
   "execution_count": 6,
   "id": "7c70366e",
   "metadata": {},
   "outputs": [
    {
     "name": "stdout",
     "output_type": "stream",
     "text": [
      "Estado de erro não é alcançável\n",
      "\n",
      "Estado 1:\n",
      "LFSR 0 = 0000001011100110000\n",
      "LFSR 1 = 0001010100100100001111\n",
      "LFSR 2 = 01001100000000110000101\n",
      "\n",
      "Estado 2:\n",
      "LFSR 0 = 0000000101110011000\n",
      "LFSR 1 = 0000101010010010000111\n",
      "LFSR 2 = 00100110000000011000010\n",
      "\n",
      "Estado 3:\n",
      "LFSR 0 = 0000000010111001100\n",
      "LFSR 1 = 0000010101001001000011\n",
      "LFSR 2 = 00010011000000001100001\n",
      "\n",
      "Estado 4:\n",
      "LFSR 0 = 0000000001011100110\n",
      "LFSR 1 = 0000001010100100100001\n",
      "LFSR 2 = 00001001100000000110000\n",
      "\n",
      "Estado 5:\n",
      "LFSR 0 = 0000000000101110011\n",
      "LFSR 1 = 0000000101010010010000\n",
      "LFSR 2 = 00000100110000000011000\n",
      "\n",
      "Estado 6:\n",
      "LFSR 0 = 0000000000010111001\n",
      "LFSR 1 = 0000000010101001001000\n",
      "LFSR 2 = 00000010011000000001100\n",
      "\n",
      "Estado 7:\n",
      "LFSR 0 = 0000000000001011100\n",
      "LFSR 1 = 0000000001010100100100\n",
      "LFSR 2 = 00000001001100000000110\n",
      "\n",
      "Estado 8:\n",
      "LFSR 0 = 0000000000000101110\n",
      "LFSR 1 = 0000000000101010010010\n",
      "LFSR 2 = 00000000100110000000011\n",
      "\n",
      "Estado 9:\n",
      "LFSR 0 = 0000000000000010111\n",
      "LFSR 1 = 0000000000010101001001\n",
      "LFSR 2 = 00000000010011000000001\n",
      "\n",
      "Estado 10:\n",
      "LFSR 0 = 0000000000000001011\n",
      "LFSR 1 = 0000000000001010100100\n",
      "LFSR 2 = 00000000001001100000000\n"
     ]
    }
   ],
   "source": [
    "\n",
    "# Executar a função com 10 passos\n",
    "gera_traco(init, error, trans, 10)\n"
   ]
  },
  {
   "cell_type": "markdown",
   "id": "26e9e333",
   "metadata": {},
   "source": [
    "### b) Use o algoritmo PDR “property directed reachability” (codifique-o ou use uma versão pré-existente) e, com ele, tente provar a segurança deste modelo.\n",
    " A função estados_inseguros foi criada para verificar se existe algum estado que viole a propriedade de segurança. Se um estado inseguro for encontrado, ele é devolvido para que possa ser analisado ou bloqueado em iterações subsequentes do algoritmo PDR."
   ]
  },
  {
   "cell_type": "code",
   "execution_count": 7,
   "id": "f290b67a",
   "metadata": {},
   "outputs": [],
   "source": [
    "def estados_inseguros(frame_atual, erro, estado_atual, solver):   \n",
    "    estado = declare(estado_atual)\n",
    "    solver.push()\n",
    "    solver.add(Not(frame_atual))  \n",
    "    solver.add(erro(estado))      \n",
    "    \n",
    "    if solver.check() == sat:\n",
    "        modelo = solver.model()\n",
    "        estado_inseguro = {variavel: modelo.eval(variavel, model_completion=True) for variavel in estado.values()}\n",
    "        solver.pop()\n",
    "        return estado_inseguro\n",
    "\n",
    "    solver.pop()\n",
    "    return None"
   ]
  },
  {
   "cell_type": "markdown",
   "id": "38bb4d43",
   "metadata": {},
   "source": [
    "A função bloquear_inseguros tem como objetivo impedir que estados inseguros sejam alcançados. Ela faz isso adicionando restrições ao solver para bloquear esses estados, garantindo que o sistema não possa atingir um estado inválido durante as iterações. Quando um estado inseguro é bloqueado, a função retorna True, indicando que o bloqueio foi bem-sucedido."
   ]
  },
  {
   "cell_type": "code",
   "execution_count": 8,
   "id": "d2424aa0",
   "metadata": {},
   "outputs": [],
   "source": [
    "def bloquear_inseguros(estado_inseguro, frames, transicao, solver):\n",
    "    for indice_frame in range(len(frames) - 1, 0, -1):\n",
    "        solver.push()\n",
    "        estado_anterior = declare(indice_frame - 1)\n",
    "        estado_seguinte = declare(indice_frame)\n",
    "\n",
    "       \n",
    "        solver.add(transicao(estado_anterior, estado_seguinte))\n",
    "        solver.add(Not(frames[indice_frame - 1]))\n",
    "\n",
    "        \n",
    "        restricao_cubo = And(*(variavel != valor for variavel, valor in estado_inseguro.items()))\n",
    "        solver.add(restricao_cubo)\n",
    "\n",
    "        if solver.check() == unsat:\n",
    "            solver.pop()\n",
    "            \n",
    "            frames[indice_frame] = And(frames[indice_frame], Not(restricao_cubo))\n",
    "            print(f\"Estado bloqueado no frame {indice_frame}\")\n",
    "            return True\n",
    "\n",
    "        solver.pop()\n",
    "\n",
    "    return False"
   ]
  },
  {
   "cell_type": "markdown",
   "id": "e6aad7b4",
   "metadata": {},
   "source": [
    "A função PDR implementa o algoritmo Property Directed Reachability (PDR), usado para verificar a segurança de sistemas. Ela analisa iterativamente se existem estados inseguros, começando do estado inicial e considerando as transições. Se um estado inseguro for encontrado, tenta bloqueá-lo. Caso todos os estados inseguros sejam bloqueados ou não existam, conclui que o sistema é seguro; caso contrário, indica que a propriedade de segurança foi violada. O processo continua até verificar a propriedade ou identificar uma violação."
   ]
  },
  {
   "cell_type": "code",
   "execution_count": 9,
   "id": "cb186af5",
   "metadata": {},
   "outputs": [],
   "source": [
    "\n",
    "\n",
    "def PDR(inicial, transicao, erro):\n",
    "   \n",
    "    solver = Solver()\n",
    "    frames = [Not(inicial(declare(0)))]\n",
    "    iteracao = 0\n",
    "\n",
    "    while True:\n",
    "        print(f\"Iteração {iteracao}\")\n",
    "\n",
    "        estado_critico = estados_inseguros(frames[iteracao], erro, iteracao, solver)\n",
    "        if estado_critico:\n",
    "            if not bloquear_inseguros(estado_critico, frames, transicao, solver):\n",
    "                print(\"Propriedade violada: sistema inseguro!\")\n",
    "                return False\n",
    "        else:\n",
    "            if iteracao > 0 and frames[iteracao] == frames[iteracao - 1]:\n",
    "                print(\"Propriedade verificada: sistema seguro!\")\n",
    "                return True\n",
    "\n",
    "            frames.append(True)\n",
    "            iteracao += 1\n",
    "\n"
   ]
  },
  {
   "cell_type": "code",
   "execution_count": 10,
   "id": "d95a90b5",
   "metadata": {},
   "outputs": [
    {
     "name": "stdout",
     "output_type": "stream",
     "text": [
      "Iteração 0\n",
      "Iteração 1\n",
      "Iteração 2\n",
      "Propriedade verificada: sistema seguro!\n"
     ]
    },
    {
     "data": {
      "text/plain": [
       "True"
      ]
     },
     "execution_count": 10,
     "metadata": {},
     "output_type": "execute_result"
    }
   ],
   "source": [
    "PDR(init,trans,error)"
   ]
  }
 ],
 "metadata": {
  "kernelspec": {
   "display_name": "Python 3 (ipykernel)",
   "language": "python",
   "name": "python3"
  },
  "language_info": {
   "codemirror_mode": {
    "name": "ipython",
    "version": 3
   },
   "file_extension": ".py",
   "mimetype": "text/x-python",
   "name": "python",
   "nbconvert_exporter": "python",
   "pygments_lexer": "ipython3",
   "version": "3.10.12"
  }
 },
 "nbformat": 4,
 "nbformat_minor": 5
}
