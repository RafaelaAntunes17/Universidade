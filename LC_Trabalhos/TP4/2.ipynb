{
 "cells": [
  {
   "cell_type": "markdown",
   "metadata": {},
   "source": [
    "# Trabalho TP4 Ex 2\n",
    "## Grupo 27\n",
    "### LCC 2024/2025\n",
    "#### Gonçalo Gonçalves Barroso A102931\n",
    "#### Rafaela Antunes Pereira A102527\n",
    "#### Ricardo Eusebio Cerqueira A102878"
   ]
  },
  {
   "cell_type": "code",
   "execution_count": 1,
   "metadata": {},
   "outputs": [
    {
     "name": "stdout",
     "output_type": "stream",
     "text": [
      "Defaulting to user installation because normal site-packages is not writeable\n",
      "Requirement already satisfied: z3-solver in /home/utilizador/.local/lib/python3.10/site-packages (4.13.0.0)\n",
      "Note: you may need to restart the kernel to use updated packages.\n"
     ]
    }
   ],
   "source": [
    "%pip install z3-solver"
   ]
  },
  {
   "cell_type": "code",
   "execution_count": 2,
   "metadata": {},
   "outputs": [],
   "source": [
    "from z3 import *\n",
    "from pysmt.shortcuts import *\n",
    "from pysmt.typing import *"
   ]
  },
  {
   "cell_type": "markdown",
   "metadata": {},
   "source": [
    "### Problema 2\n",
    "Este exercício é dirigido à prova de correção do algoritmo estendido de Euclides  apresentado no trabalho TP3\n",
    "\n",
    "\n",
    "    1. Construa a asserção lógica que representa a pós-condição do algoritmo. Note que a definição da função gcd é   \n",
    "$$\n",
    "\\gcd(a, b) \\equiv \\min \\{\\, r > 0 \\,|\\, \\exists s, t \\,\\centerdot\\, r = a \\cdot s + b \\cdot t \\}\n",
    "$$\n",
    "\n",
    "    2. Usando a metodologia do comando havoc para o ciclo, escreva o programa na linguagem dos comandos anotados (LPA). Codifique a pós-condição do algoritmo com um comando assert .\n",
    "    3. Construa codificações do programa LPA através de transformadores de predicados “strongest post-condition” e  prove a correção  do programa LPA."
   ]
  },
  {
   "cell_type": "markdown",
   "metadata": {},
   "source": [
    "    1. Construa a asserção lógica que representa a pós-condição do algoritmo. Note que a definição da função gcd é   \n",
    "$$\n",
    "\\gcd(a, b) \\equiv \\min \\{\\, r > 0 \\,|\\, \\exists s, t \\,\\centerdot\\, r = a \\cdot s + b \\cdot t \\}\n",
    "$$"
   ]
  },
  {
   "cell_type": "code",
   "execution_count": 3,
   "metadata": {},
   "outputs": [],
   "source": [
    "def prove(f):\n",
    "\n",
    "    with Solver(name=\"z3\") as s:\n",
    "        s.add_assertion(Not(f))\n",
    "        if s.solve():\n",
    "            print(\"Failed to prove.\")\n",
    "        else:\n",
    "            print(\"Proved.\")"
   ]
  },
  {
   "cell_type": "code",
   "execution_count": 4,
   "metadata": {},
   "outputs": [
    {
     "name": "stdout",
     "output_type": "stream",
     "text": [
      "Proved.\n"
     ]
    }
   ],
   "source": [
    "a = Symbol('a', INT)\n",
    "b = Symbol('b', INT)\n",
    "r = Symbol('r', INT)\n",
    "rl = Symbol('rl', INT)\n",
    "s = Symbol('s', INT)\n",
    "sl = Symbol('sl', INT)\n",
    "t = Symbol('t', INT)\n",
    "tl = Symbol('tl', INT)\n",
    "q = Symbol('q', INT)\n",
    "x = Symbol('x', INT)\n",
    "y = Symbol('y', INT)\n",
    "z = Symbol('z', INT)\n",
    "\n",
    "pre = And(And(GT(a, Int(0)), GT(b, Int(0))), Not(Equals(rl, Int(0))))\n",
    "pos = And(\n",
    "    Equals(r, Plus(Times(a,s), Times(b,t))),\n",
    "    GT(r, Int(0)),\n",
    "    ForAll([x,y,z], Implies(And(Equals(x, Plus(Times(a,y), Times(b,z))), GT(x, Int(0))), LE(r, x)))\n",
    ")\n",
    "\n",
    "invariante = And(\n",
    "    Equals(r, Plus(Times(a, s), Times(b, t))),\n",
    "    Equals(rl, Plus(Times(a, sl), Times(b, tl))),\n",
    "    GT(rl, Int(0)),\n",
    ")\n",
    "\n",
    "prog = And(Equals(q, Div(r, rl)),\n",
    "           Equals(r, rl),\n",
    "           Equals(rl, Minus(r, Times(q, rl))),\n",
    "           Equals(s, sl),\n",
    "           Equals(sl, Minus(sl, Times(q, sl))),\n",
    "           Equals(t, tl),\n",
    "           Equals(tl, Minus(tl, Times(q, tl)))\n",
    ")\n",
    "\n",
    "spc = Implies(And(pre, prog), pos)\n",
    "prove(spc)"
   ]
  },
  {
   "cell_type": "markdown",
   "metadata": {},
   "source": [
    "    2. Usando a metodologia do comando havoc para o ciclo, escreva o programa na linguagem dos comandos anotados (LPA). Codifique a pós-condição do algoritmo com um comando assert .\n"
   ]
  },
  {
   "cell_type": "raw",
   "metadata": {
    "vscode": {
     "languageId": "raw"
    }
   },
   "source": [
    "assume a > 0 and b > 0;\n",
    "r, r', s, s', t, t' <- a, b, 1, 0, 0, 1;\n",
    "havoc r, r', s, s', t, t';\n",
    "\n",
    "(\n",
    "  // Corpo do loop\n",
    "  assume r' != 0;\n",
    "  q <- r div r';\n",
    "  r, r', s, s', t, t' <- r', r - q * r', s', s - q * s', t', t - q * t';\n",
    "  assume False\n",
    ")\n",
    "||\n",
    "(\n",
    "  // Saída do loop\n",
    "  assume r' = 0;\n",
    "  assert (\n",
    "    r = a * s + b * t and        // Combinação linear\n",
    "    r > 0 and                    // Positividade\n",
    "    forall x, y, z .             // Propriedade de minimalidade\n",
    "      (x = a * y + b * z and x > 0) -> r <= x\n",
    "    )\n",
    ");"
   ]
  },
  {
   "cell_type": "markdown",
   "metadata": {},
   "source": [
    "    3. Construa codificações do programa LPA através de transformadores de predicados “strongest post-condition” e  prove a correção  do programa LPA.\n"
   ]
  },
  {
   "cell_type": "code",
   "execution_count": 5,
   "metadata": {},
   "outputs": [
    {
     "name": "stdout",
     "output_type": "stream",
     "text": [
      "Proved.\n"
     ]
    }
   ],
   "source": [
    "init = And(\n",
    "    GT(a, Int(0)), GT(b, Int(0)),\n",
    "    Equals(r, a),\n",
    "    Equals(rl, b),\n",
    "    Equals(s, Int(1)),\n",
    "    Equals(sl, Int(0)),\n",
    "    Equals(t, Int(0)),\n",
    "    Equals(tl, Int(1))\n",
    ")\n",
    "\n",
    "sp = And(init, Exists([r, rl, s, sl, t, tl, q], invariante))\n",
    "\n",
    "loop = And(\n",
    "    Not(Equals(rl, Int(0))),\n",
    "    Equals(q, Div(r, rl)),\n",
    "    Equals(r, rl),\n",
    "    Equals(rl, Minus(r, Times(q, rl))),\n",
    "    Equals(s, sl),\n",
    "    Equals(sl, Minus(s, Times(q, sl))),\n",
    "    Equals(t, tl),\n",
    "    Equals(tl, Minus(t, Times(q, tl)))\n",
    ")\n",
    "\n",
    "sp = Or(And(sp, loop), And(sp, Equals(rl, Int(0))))\n",
    "\n",
    "prove(Implies(sp, pos))"
   ]
  }
 ],
 "metadata": {
  "kernelspec": {
   "display_name": "Python 3",
   "language": "python",
   "name": "python3"
  },
  "language_info": {
   "codemirror_mode": {
    "name": "ipython",
    "version": 3
   },
   "file_extension": ".py",
   "mimetype": "text/x-python",
   "name": "python",
   "nbconvert_exporter": "python",
   "pygments_lexer": "ipython3",
   "version": "3.10.12"
  }
 },
 "nbformat": 4,
 "nbformat_minor": 2
}
