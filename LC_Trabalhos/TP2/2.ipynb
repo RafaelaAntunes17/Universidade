{
 "cells": [
  {
   "cell_type": "markdown",
   "metadata": {},
   "source": [
    "# Trabalho TP2 - Multiplicação de Inteiros\n",
    "## Grupo 27\n",
    "### LCC 2024/2025\n",
    "#### Rafaela Antunes Pereira A102527\n",
    "#### Gonçalo Gonçalves Barroso A102931\n",
    "#### Ricardo Eusebio Cerqueira A102878\n"
   ]
  },
  {
   "cell_type": "code",
   "execution_count": 108,
   "metadata": {},
   "outputs": [
    {
     "name": "stdout",
     "output_type": "stream",
     "text": [
      "Defaulting to user installation because normal site-packages is not writeable\n",
      "Requirement already satisfied: pysmt in /home/utilizador/.local/lib/python3.10/site-packages (0.9.6)\n"
     ]
    },
    {
     "name": "stdout",
     "output_type": "stream",
     "text": [
      "Note: you may need to restart the kernel to use updated packages.\n",
      "Defaulting to user installation because normal site-packages is not writeable\n",
      "Requirement already satisfied: z3-solver in /home/utilizador/.local/lib/python3.10/site-packages (4.13.0.0)\n",
      "Note: you may need to restart the kernel to use updated packages.\n"
     ]
    }
   ],
   "source": [
    "%pip install pysmt\n",
    "%pip install z3-solver"
   ]
  },
  {
   "cell_type": "code",
   "execution_count": 109,
   "metadata": {},
   "outputs": [],
   "source": [
    "from pysmt.shortcuts import *\n",
    "from pysmt.typing import BVType"
   ]
  },
  {
   "cell_type": "markdown",
   "metadata": {},
   "source": [
    "##### Considere o problema descrito no documento Lógica Computacional: Multiplicação de Inteiros . Nesse documento usa-se um “Control Flow Automaton” como modelo do programa imperativo que calcula a multiplicação de inteiros positivos representados por vetores de bits.\n",
    "##### Pretende-se\n",
    "##### - a. Construir um SFOTS, usando BitVec's de tamanho n, que descreva o comportamento deste autómato; para isso identifique e codifique em z3 ou pySMT, as variáveis do modelo, o estado inicial, a relação de transição e o estado de erro.\n",
    "##### - b. Usando k-indução verifique nesse SFOTS se a propriedade $\\space x \\cdot y + z = a \\cdot b \\space$ é um invariante do seu comportamento.\n",
    "##### - c. Usando k-indução no FOTS acima e adicionando ao estado inicial a condição $\\space a < 2^{n/2} \\land b < 2^{n/2}$, verifique a segurança do programa; nomeadamente prove que, com tal estado inicial, o estado de erro nunca é acessível.\n",
    "\n"
   ]
  },
  {
   "cell_type": "markdown",
   "metadata": {},
   "source": [
    "### a. Construir um SFOTS, usando BitVec's de tamanho n, que descreva o comportamento deste autómato; para isso identifique e codifique em z3 ou pySMT, as variáveis do modelo, o estado inicial, a relação de transição e o estado de erro."
   ]
  },
  {
   "cell_type": "markdown",
   "metadata": {},
   "source": [
    "Para representar o programa como um SFOTS (Sistema Finito de Transições de Estado Simples), consideramos o conjunto de variáveis de estado X=[’x’, ’y’, ’z’, ’pc’]X=[’x’, ’y’, ’z’, ’pc’].\n",
    "\n",
    "Para criar as variáveis do modelo, é definida uma função chamada gState. Esta função recebe como argumentos uma lista com os nomes das variáveis de estado, uma etiqueta, um índice inteiro e o número de bits. Com isso, ela gera a ii-ésima versão das variáveis de estado, rotulada pela etiqueta fornecida. Cada variável lógica segue um formato padrão, onde o nome base da variável de estado é seguido por um delimitador !, criando uma nomenclatura uniforme para as diferentes instâncias."
   ]
  },
  {
   "cell_type": "code",
   "execution_count": 110,
   "metadata": {},
   "outputs": [],
   "source": [
    "def gState(vars, prefix, i, nBits):\n",
    "    state = {}\n",
    "    for v in vars:\n",
    "        state[v] = Symbol(f'{v}!{prefix}_{i}', BVType(nBits))\n",
    "    return state"
   ]
  },
  {
   "cell_type": "markdown",
   "metadata": {},
   "source": [
    "Para especificar o estado inicial, é criada uma função chamada init. Esta função recebe como parâmetros um estado potencial do programa (representado por um dicionário de variáveis), dois inteiros aa e bb, e o número de bits. Ela retorna um predicado do pySMT que verifica se as condições $ x=a, y=b, z=0, a≥0, b≥0 $ são todas satisfatórias, ou seja, se o estado fornecido pode ser considerado um estado inicial válido do programa"
   ]
  },
  {
   "cell_type": "code",
   "execution_count": 111,
   "metadata": {},
   "outputs": [],
   "source": [
    "def init(state, a, b, nBits):\n",
    "    return And(\n",
    "        Equals(state['pc'], BV(0, nBits)), \n",
    "        Equals(state['x'], BV(a, nBits)), \n",
    "        Equals(state['y'], BV(b, nBits)),\n",
    "        Equals(state['z'], BV(0, nBits)),\n",
    "        BVUGE(BV(a, nBits), BV(0, nBits)),\n",
    "        BVUGE(BV(b, nBits), BV(0, nBits))\n",
    "    )"
   ]
  },
  {
   "cell_type": "markdown",
   "metadata": {},
   "source": [
    "A função *error* é responsável por verificar se um determinado estado do programa contém valores que excedem os limites representáveis com um número fixo de bits, *nBits*. \n",
    "\n",
    "Esta retorna um resultado que indica a ocorrência de um erro se qualquer uma das variáveis x, y, ou z estiver fora do intervalo permitido, ajudando assim a garantir a integridade e a segurança do programa ao prevenir o uso de valores inválidos ou excessivos."
   ]
  },
  {
   "cell_type": "code",
   "execution_count": 112,
   "metadata": {},
   "outputs": [],
   "source": [
    "def error(s, nBits):\n",
    "    max_value = BV((1 << nBits) - 1, nBits)  # Valor máximo representável com nBits\n",
    "    return Or(\n",
    "        BVUGT(s['x'], max_value),  # BVUGT verifica se s['x'] é maior que max_value\n",
    "        BVUGT(s['y'], max_value),\n",
    "        BVUGT(s['z'], max_value)\n",
    "    )"
   ]
  },
  {
   "cell_type": "markdown",
   "metadata": {},
   "source": [
    "A função *trans* é responsável por estabelecer as relações de transição entre dois estados do programa, retornando um predicado do pySMT que determina se a transição do primeiro estado para o segundo é válida.\n",
    "\n",
    "Dentro da função, diversas condições são avaliadas para descrever como as variáveis de estado mudam entre os dois estados. Para os casos em que a verificação de paridade é necessária, a função utiliza even(y), que verifica se a variável y é um número par, onde analisa o bit menos significativo, retornando par caso seja 0, ou 1 caso seja impar.\n",
    "\n",
    "Assim, a função trans inclui a verificação de paridade nas suas condições, o que garante que as transições entre estados seguem as regras do programa. Isso ajuda a manter os estados que vêm a seguir consistentes e válidos durante a execução do sistema.\n"
   ]
  },
  {
   "cell_type": "code",
   "execution_count": 113,
   "metadata": {},
   "outputs": [],
   "source": [
    "def even(value, nBits):\n",
    "    return Equals(BVExtract(value, 0, 0), BV(0, 1))\n",
    "\n",
    "def trans(curr, prox, nBits):\n",
    "    t01 = And(\n",
    "        Equals(curr['pc'], BV(0, nBits)), \n",
    "        NotEquals(curr['y'], BV(0, nBits)), \n",
    "        Equals(prox['pc'], BV(1, nBits)), \n",
    "        Equals(prox['x'], curr['x']), \n",
    "        Equals(prox['y'], curr['y']), \n",
    "        Equals(prox['z'], curr['z'])\n",
    "    )\n",
    "    t12 = And(\n",
    "        Equals(curr['pc'], BV(1, nBits)), \n",
    "        even(curr['y'], nBits), \n",
    "        Equals(prox['pc'], BV(2, nBits)), \n",
    "        Equals(prox['x'], curr['x']), \n",
    "        Equals(prox['y'], curr['y']), \n",
    "        Equals(prox['z'], curr['z'])\n",
    "    )\n",
    "    t20 = And(\n",
    "        Equals(curr['pc'], BV(2, nBits)), \n",
    "        Equals(prox['pc'], BV(0, nBits)),\n",
    "        Equals(prox['x'], BVMul(curr['x'], BV(2, nBits))), \n",
    "        Equals(prox['y'], BVUDiv(curr['y'], BV(2, nBits))), \n",
    "        Equals(prox['z'], curr['z'])\n",
    "    )\n",
    "    t13 = And(\n",
    "        Equals(curr['pc'], BV(1, nBits)), \n",
    "        Not(even(curr['y'], nBits)), \n",
    "        Equals(prox['pc'], BV(3, nBits)), \n",
    "        Equals(prox['x'], curr['x']), \n",
    "        Equals(prox['y'], curr['y']), \n",
    "        Equals(prox['z'], curr['z'])\n",
    "    )\n",
    "    t34 = And(\n",
    "        Equals(curr['pc'], BV(3, nBits)), \n",
    "        Equals(prox['pc'], BV(4, nBits)), \n",
    "        Equals(prox['x'], curr['x']), \n",
    "        Equals(prox['y'], curr['y']), \n",
    "        Equals(prox['z'], curr['z'])\n",
    "    )\n",
    "    t40 = And(\n",
    "        Equals(curr['pc'], BV(4, nBits)), \n",
    "        Equals(prox['pc'], BV(0, nBits)), \n",
    "        Equals(prox['x'], curr['x']), \n",
    "        Equals(prox['y'], BVSub(curr['y'], BV(1, nBits))), \n",
    "        Equals(prox['z'], BVAdd(curr['z'], curr['x']))\n",
    "    )\n",
    "    t05 = And(\n",
    "        Equals(curr['pc'], BV(0, nBits)), \n",
    "        Equals(curr['y'], BV(0, nBits)), \n",
    "        Equals(prox['pc'], BV(5, nBits)), \n",
    "        Equals(prox['x'], curr['x']), \n",
    "        Equals(prox['y'], curr['y']), \n",
    "        Equals(prox['z'], curr['z'])\n",
    "    )\n",
    "\n",
    "    return Or(t01, t12, t13, t20, t34, t40, t05)"
   ]
  },
  {
   "cell_type": "markdown",
   "metadata": {},
   "source": [
    "Usando a função *genTrace*, geramos um possível estado de execução com *n* transições\n"
   ]
  },
  {
   "cell_type": "code",
   "execution_count": 114,
   "metadata": {},
   "outputs": [],
   "source": [
    "def genTrace(vars, init, trans, error, n, a, b, nBits):\n",
    "    max_value = (1 << nBits) - 1\n",
    "    product = a * b\n",
    "\n",
    "    # Verificar se o produto a*b é maior que o máximo representável\n",
    "    if product > max_value:\n",
    "        print(f\"Erro: O produto a * b ({product}) é maior que o valor máximo representável ({max_value}) com {nBits} bits.\")\n",
    "        return\n",
    "\n",
    "    s = Solver()\n",
    "    X = [gState(vars, 'X', i, nBits) for i in range(n + 1)]  # Cria estados de 0 a n (total n+1 estados)\n",
    "    \n",
    "    # Inicializar o estado inicial\n",
    "    I = init(X[0], a, b, nBits)\n",
    "    \n",
    "    # A primeira iteração começa com o estado inicial\n",
    "    for i in range(n):  # Muda o loop para ir de 0 a n-1\n",
    "        # Transição e verificação de erro\n",
    "        transition = trans(X[i], X[i + 1], nBits)\n",
    "        error_condition = error(X[i + 1], nBits)\n",
    "        \n",
    "        # Verificar se a transição é satisfatível\n",
    "        if s.solve([I, transition, Not(error_condition)]):\n",
    "            print(f\"Estado {i} válido:\")  # Modificado para começar do estado 0\n",
    "            for v in X[i + 1]:  # Mostrar valores do próximo estado\n",
    "                print(f\"    {v} = {s.get_value(X[i + 1][v])}\")\n",
    "            # Atualiza o estado inicial para a próxima iteração\n",
    "            I = And(I, transition)  # Atualiza I com a transição realizada\n",
    "        else:\n",
    "            print(f\"Erro encontrado após a iteração {i}:\")  # Modificado para começar do estado 0\n",
    "            # Verificando os valores para o estado atual\n",
    "            for v in X[i]:\n",
    "                val = s.get_value(X[i][v]) if s.solve([I]) else \"Modelo não encontrado.\"\n",
    "                print(f\"    {v} = {val}\")\n",
    "            break\n",
    "    else:\n",
    "        # Condição final: z no último estado deve ser igual a a * b\n",
    "        final_check = Equals(X[n]['z'], BV(a * b, nBits))\n",
    "        if s.solve([I, final_check]):\n",
    "            print(f\"Condição final satisfeita: z = a * b = {a * b}.\")\n",
    "            for v in X[n]:\n",
    "                print(f\"    {v} = {s.get_value(X[n][v])}\")\n",
    "            return True\n",
    "        else:\n",
    "            print(\"Nenhuma solução que satisfaça a condição final (z == a * b) encontrada.\")\n",
    "            return False\n"
   ]
  },
  {
   "cell_type": "markdown",
   "metadata": {},
   "source": [
    "### Resultados"
   ]
  },
  {
   "cell_type": "code",
   "execution_count": 115,
   "metadata": {},
   "outputs": [
    {
     "name": "stdout",
     "output_type": "stream",
     "text": [
      "Estado 0 válido:\n",
      "    pc = 1_8\n",
      "    x = 4_8\n",
      "    y = 6_8\n",
      "    z = 0_8\n",
      "Estado 1 válido:\n",
      "    pc = 2_8\n",
      "    x = 4_8\n",
      "    y = 6_8\n",
      "    z = 0_8\n",
      "Estado 2 válido:\n",
      "    pc = 0_8\n",
      "    x = 8_8\n",
      "    y = 3_8\n",
      "    z = 0_8\n",
      "Estado 3 válido:\n",
      "    pc = 1_8\n",
      "    x = 8_8\n",
      "    y = 3_8\n",
      "    z = 0_8\n",
      "Estado 4 válido:\n",
      "    pc = 3_8\n",
      "    x = 8_8\n",
      "    y = 3_8\n",
      "    z = 0_8\n",
      "Estado 5 válido:\n",
      "    pc = 4_8\n",
      "    x = 8_8\n",
      "    y = 3_8\n",
      "    z = 0_8\n",
      "Estado 6 válido:\n",
      "    pc = 0_8\n",
      "    x = 8_8\n",
      "    y = 2_8\n",
      "    z = 8_8\n",
      "Estado 7 válido:\n",
      "    pc = 1_8\n",
      "    x = 8_8\n",
      "    y = 2_8\n",
      "    z = 8_8\n",
      "Estado 8 válido:\n",
      "    pc = 2_8\n",
      "    x = 8_8\n",
      "    y = 2_8\n",
      "    z = 8_8\n",
      "Estado 9 válido:\n",
      "    pc = 0_8\n",
      "    x = 16_8\n",
      "    y = 1_8\n",
      "    z = 8_8\n",
      "Nenhuma solução que satisfaça a condição final (z == a * b) encontrada.\n"
     ]
    },
    {
     "data": {
      "text/plain": [
       "False"
      ]
     },
     "execution_count": 115,
     "metadata": {},
     "output_type": "execute_result"
    }
   ],
   "source": [
    "#Exemplo 1 (Não é satisfeita a condição)\n",
    "vars = ['pc', 'x', 'y', 'z']\n",
    "n = 10    # numero de passos\n",
    "nbits = 8 # numeros com 8 bits\n",
    "a = 4\n",
    "b = 6\n",
    "genTrace(vars, init, trans, error, n,a,b, nbits)"
   ]
  },
  {
   "cell_type": "code",
   "execution_count": 116,
   "metadata": {},
   "outputs": [
    {
     "name": "stdout",
     "output_type": "stream",
     "text": [
      "Estado 0 válido:\n",
      "    pc = 1_8\n",
      "    x = 2_8\n",
      "    y = 4_8\n",
      "    z = 0_8\n",
      "Estado 1 válido:\n",
      "    pc = 2_8\n",
      "    x = 2_8\n",
      "    y = 4_8\n",
      "    z = 0_8\n",
      "Estado 2 válido:\n",
      "    pc = 0_8\n",
      "    x = 4_8\n",
      "    y = 2_8\n",
      "    z = 0_8\n",
      "Estado 3 válido:\n",
      "    pc = 1_8\n",
      "    x = 4_8\n",
      "    y = 2_8\n",
      "    z = 0_8\n",
      "Estado 4 válido:\n",
      "    pc = 2_8\n",
      "    x = 4_8\n",
      "    y = 2_8\n",
      "    z = 0_8\n",
      "Estado 5 válido:\n",
      "    pc = 0_8\n",
      "    x = 8_8\n",
      "    y = 1_8\n",
      "    z = 0_8\n",
      "Estado 6 válido:\n",
      "    pc = 1_8\n",
      "    x = 8_8\n",
      "    y = 1_8\n",
      "    z = 0_8\n",
      "Estado 7 válido:\n",
      "    pc = 3_8\n",
      "    x = 8_8\n",
      "    y = 1_8\n",
      "    z = 0_8\n",
      "Estado 8 válido:\n",
      "    pc = 4_8\n",
      "    x = 8_8\n",
      "    y = 1_8\n",
      "    z = 0_8\n",
      "Estado 9 válido:\n",
      "    pc = 0_8\n",
      "    x = 8_8\n",
      "    y = 0_8\n",
      "    z = 8_8\n",
      "Condição final satisfeita: z = a * b = 8.\n",
      "    pc = 0_8\n",
      "    x = 8_8\n",
      "    y = 0_8\n",
      "    z = 8_8\n"
     ]
    },
    {
     "data": {
      "text/plain": [
       "True"
      ]
     },
     "execution_count": 116,
     "metadata": {},
     "output_type": "execute_result"
    }
   ],
   "source": [
    "#Exemplo 2 (È satisfeita a condição nos passos propostos)\n",
    "vars = ['pc', 'x', 'y', 'z']\n",
    "n = 10    # numero de passos\n",
    "nbits = 8 # numeros com 8 bits\n",
    "a = 2\n",
    "b = 4\n",
    "genTrace(vars, init, trans, error, n,a,b, nbits)"
   ]
  },
  {
   "cell_type": "code",
   "execution_count": 117,
   "metadata": {},
   "outputs": [
    {
     "name": "stdout",
     "output_type": "stream",
     "text": [
      "Erro: O produto a * b (357) é maior que o valor máximo representável (255) com 8 bits.\n"
     ]
    }
   ],
   "source": [
    "# Exemplo 3 (Multiplicação de a por b passa o limite de 8 bits)\n",
    "vars = ['pc', 'x', 'y', 'z']\n",
    "n = 10    # numero de passos\n",
    "nbits = 8 # numeros com 8 bits\n",
    "a = 51\n",
    "b = 7\n",
    "genTrace(vars, init, trans, error, n,a,b, nbits)"
   ]
  },
  {
   "cell_type": "markdown",
   "metadata": {},
   "source": [
    "#### b. Usando k-indução, verifique nesse SFOTS se a propriedade $(x * y + z = a * b)$ é um invariante do seu coportamento."
   ]
  },
  {
   "cell_type": "markdown",
   "metadata": {},
   "source": [
    "Sendo *inv* a função que define a propriedade que teremos que verificar se é invariante:"
   ]
  },
  {
   "cell_type": "code",
   "execution_count": 118,
   "metadata": {},
   "outputs": [],
   "source": [
    "def inv(state, a, b, n):\n",
    "    return Equals(BVAdd(BVMul(state['x'], state['y']), state['z']), BVMul(BV(a,n), BV(b,n)))"
   ]
  },
  {
   "cell_type": "markdown",
   "metadata": {},
   "source": [
    "Usamos a função kinduction_always, disponibilizada das fichas, com algumas alterações, que nos verifica se a propriedade *inv* é invariante por k-indução:"
   ]
  },
  {
   "cell_type": "code",
   "execution_count": 186,
   "metadata": {},
   "outputs": [],
   "source": [
    "def kinduction_always(init, trans, inv, k, a, b, nbits):\n",
    "    with Solver() as solver:\n",
    "        # Gera uma lista de estados iniciais marcados com 'X'\n",
    "        s = [gState(vars, 'X', i, nbits) for i in range(k)]\n",
    "        \n",
    "        # Adiciona a asserção do estado inicial\n",
    "        solver.add_assertion(init(s[0], a, b, nbits))\n",
    "        \n",
    "        # Verifica as transições entre os estados\n",
    "        for i in range(k-1):\n",
    "            solver.add_assertion(trans(s[i], s[i+1], nbits))\n",
    "        \n",
    "        # Verifica se o invariante é mantido nos k primeiros estados\n",
    "        for i in range(k):\n",
    "            solver.push()  # Cria novo contexto para cada estado\n",
    "            solver.add_assertion(Not(inv(s[i], a, b, nbits)))  # Verifica se o invariante é violado\n",
    "            if solver.solve():  # Se encontrar contradição, o invariante não se mantém\n",
    "                print(f\"> Contradição! O invariante não se verifica nos k estados iniciais.\")\n",
    "                for st in s:\n",
    "                    print(\"x, pc, inv: \", solver.get_value(st['x']), solver.get_value(st['pc']))\n",
    "                return  # Interrompe a execução ao detectar erro\n",
    "            solver.pop()  # Restaura o contexto após verificação\n",
    "        \n",
    "        # Gera estados adicionais marcados com 'Y' para o passo indutivo\n",
    "        s2 = [gState(vars, 'Y', i + k, nbits) for i in range(k + 1)]\n",
    "        \n",
    "        # Verifica se o invariante é mantido nos estados em 's2'\n",
    "        for i in range(k):\n",
    "            solver.add_assertion(inv(s2[i], a, b, nbits))  # Verifica se o invariante se mantém\n",
    "            solver.add_assertion(trans(s2[i], s2[i+1], nbits))  # Verifica a transição entre os estados\n",
    "        \n",
    "        # Verifica se o invariante é violado no último estado de 's2'\n",
    "        solver.add_assertion(Not(inv(s2[-1], a, b, nbits)))\n",
    "\n",
    "        if solver.solve():  # Se encontrar contradição, a segurança falha no passo indutivo\n",
    "            print(f\"> Contradição! O passo indutivo não se verifica.\")\n",
    "            for i, state in enumerate(s):\n",
    "                print(f\"> Estado {i}: x = {solver.get_value(state['x'])}, pc= {solver.get_value(state['pc'])}.\")\n",
    "            return  # Interrompe a execução ao detectar erro\n",
    "\n",
    "        # Se nenhuma contradição for encontrada, a propriedade é válida por k-indução\n",
    "        print(f\"> A propriedade verifica-se por k-indução (k={k}).\")\n"
   ]
  },
  {
   "cell_type": "markdown",
   "metadata": {},
   "source": [
    "### Resultados\n"
   ]
  },
  {
   "cell_type": "code",
   "execution_count": 187,
   "metadata": {},
   "outputs": [
    {
     "name": "stdout",
     "output_type": "stream",
     "text": [
      "> A propriedade verifica-se por k-indução (k=3).\n"
     ]
    }
   ],
   "source": [
    "a=4\n",
    "b=0\n",
    "nbits=8\n",
    "k=3\n",
    "kinduction_always(init, trans, inv, k, a, b, nbits)"
   ]
  },
  {
   "cell_type": "code",
   "execution_count": 188,
   "metadata": {},
   "outputs": [
    {
     "name": "stdout",
     "output_type": "stream",
     "text": [
      "> A propriedade verifica-se por k-indução (k=5).\n"
     ]
    }
   ],
   "source": [
    "a=4\n",
    "b=6\n",
    "nbits=8\n",
    "k=5\n",
    "kinduction_always(init, trans, inv, k, a, b, nbits)"
   ]
  },
  {
   "cell_type": "code",
   "execution_count": 192,
   "metadata": {},
   "outputs": [
    {
     "name": "stdout",
     "output_type": "stream",
     "text": [
      "> Contradição! O passo indutivo não se verifica.\n",
      "> Estado 0: x = 4_8, pc= 0_8.\n"
     ]
    }
   ],
   "source": [
    "a=4\n",
    "b=0\n",
    "nbits=8\n",
    "k=1\n",
    "kinduction_always(init, trans, inv, k, a, b, nbits)"
   ]
  },
  {
   "cell_type": "markdown",
   "metadata": {},
   "source": [
    "#### c. Usando k-indução no FOTS acima e adicionando ao estado inicial a condição $\\space a < 2^{n/2} \\land b < 2^{n/2}$, verifique a segurança do programa; nomeadamente prove que, com tal estado inicial, o estado de erro nunca é acessível.\n"
   ]
  },
  {
   "cell_type": "markdown",
   "metadata": {},
   "source": [
    "A função *init_c* atua como um verificador para estados iniciais, garantindo que as variáveis do estado do programa estejam adequadamente definidas e dentro dos limites desejados, assegurando assim a integridade do estado inicial do programa antes de sua execução."
   ]
  },
  {
   "cell_type": "code",
   "execution_count": 170,
   "metadata": {},
   "outputs": [],
   "source": [
    "def init_c(state, a, b, nbits):\n",
    "\n",
    "    x = Equals(state['x'], BV(a, nbits))\n",
    "    y = Equals(state['y'], BV(b, nbits))\n",
    "    z = Equals(state['z'], BV(0, nbits))\n",
    "    pc = Equals(state['pc'], BV(0, nbits))\n",
    "    apos = BVUGE(BV(a, nbits), BV(0, nbits))\n",
    "    bpos = BVUGE(BV(b, nbits), BV(0, nbits))\n",
    "    cond = And(BVULT(BV(a, nbits), BV(2 ** (nbits//2), nbits)), BVULT(BV(b, nbits), BV(2 ** (nbits//2), nbits)))\n",
    "\n",
    "    return And(x, y, z, pc, apos, bpos, cond)"
   ]
  },
  {
   "cell_type": "markdown",
   "metadata": {},
   "source": [
    "A função *kinduction_s* permite verificar se o programa pode ser executado de forma segura, sem chegar a um estado de erro, desde que o estado inicial siga as condições definidas."
   ]
  },
  {
   "cell_type": "code",
   "execution_count": 207,
   "metadata": {},
   "outputs": [],
   "source": [
    "def kinduction_s(vars, init, trans, error, k, a, b, nbits):\n",
    "    # Verifica se os valores de 'a' e 'b' são válidos de acordo com a condição (a < 2^(n/2)) e (b < 2^(n/2))\n",
    "    # Passo 1\n",
    "    if a >=  2 ** (nbits//2) or b >= 2 ** (nbits//2):\n",
    "        print(f\"Erro: a ou b ({a}, {b}) é maior ou igual que 2 ^ ({nbits//2}) = {2 ** (nbits//2)}\")\n",
    "        return False  # Retorna falso caso a condição não seja atendida\n",
    "    \n",
    "    with Solver() as solver:\n",
    "        # Gera uma lista de estados iniciais (marcados com 'X')\n",
    "        s = [gState(vars, 'X', i, nbits) for i in range(k)]\n",
    "        \n",
    "        # Adiciona a asserção do estado inicial\n",
    "        solver.add_assertion(init(s[0], a, b, nbits))\n",
    "        \n",
    "        # Verifica as transições entre estados para os primeiros 'k' estados\n",
    "        # Passo 2\n",
    "        for i in range(k-1):\n",
    "            solver.add_assertion(trans(s[i], s[i+1], nbits))\n",
    "        \n",
    "        \n",
    "        # Verifica se algum estado atinge a condição de erro nos primeiros 'k' passos\n",
    "        # Passo 3\n",
    "        for i in range(k):\n",
    "            solver.push()  # Cria um novo contexto para cada estado\n",
    "            solver.add_assertion(error(s[i], nbits))  # Adiciona asserção de erro\n",
    "            if solver.solve():  # Se o solver encontra um erro\n",
    "                print(f\"> Propriedade de segurança violada nos primeiros {k} estados!\")\n",
    "                print(f\"> Erro encontrado no passo {i}\")\n",
    "                return False  # Se encontrar erro, retorna falso\n",
    "            solver.pop()  # Restaura o contexto após a verificação\n",
    "            \n",
    "        # Gera estados adicionais marcados com 'Y' para o passo indutivo\n",
    "        s2 = [gState(vars, 'Y', i + k, nbits) for i in range(k + 1)]\n",
    "        \n",
    "        # Verifica se os estados em 's2' são válidos e não geram erro\n",
    "        for i in range(k):\n",
    "            solver.add_assertion(Not(error(s2[i], nbits)))  # Verifica se o estado não é um erro\n",
    "            if i < k-1:\n",
    "                solver.add_assertion(trans(s2[i], s2[i+1], nbits))  # Verifica a transição entre estados\n",
    "        \n",
    "        # Verifica se o último estado de 's2' gera um erro\n",
    "        solver.add_assertion(error(s2[-1], nbits))\n",
    "        \n",
    "        \n",
    "        # Se o solver encontra um erro, a segurança é violada\n",
    "        if solver.solve():\n",
    "            print(f\"> Propriedade de segurança violada no passo indutivo!\")\n",
    "            return False\n",
    "        \n",
    "        # Se nenhum erro for encontrado, a segurança é garantida\n",
    "        print(f\"> Programa seguro! Provado por k-indução. (k={k})\")\n",
    "        return True  # Retorna verdadeiro indicando que o programa é seguro\n"
   ]
  },
  {
   "cell_type": "markdown",
   "metadata": {},
   "source": [
    "Para provar que, a partir de um estado inicial específico, o estado de erro nunca é acessível usando a técnica de k-indução com a função *kinduction_s*, precisamos garantir que:\n",
    "- O estado inicial satisfaz as condições requeridas( neste caso, $\\space a < 2^{n/2} \\land b < 2^{n/2}\\space$)\n",
    "- As transições entre estados não levam a um estado de erro, desde que o estado inicial seja válido.\n",
    "- No passo indutivo, se os primeiros *k* estados não acessam um estado de erro, então os estados subsequentes também não devem."
   ]
  },
  {
   "cell_type": "markdown",
   "metadata": {},
   "source": [
    "#### Resultados"
   ]
  },
  {
   "cell_type": "code",
   "execution_count": 206,
   "metadata": {},
   "outputs": [
    {
     "name": "stdout",
     "output_type": "stream",
     "text": [
      "Erro: a ou b (2, 17) é maior ou igual que 2 ^ (4) = 16\n"
     ]
    },
    {
     "data": {
      "text/plain": [
       "False"
      ]
     },
     "execution_count": 206,
     "metadata": {},
     "output_type": "execute_result"
    }
   ],
   "source": [
    "vars = ['x', 'y', 'z', 'pc']  # Lista de variáveis de estado\n",
    "a = 2\n",
    "b = 17\n",
    "nbits = 8\n",
    "k = 3\n",
    "\n",
    "kinduction_s(vars, init_c, trans, error, k, a, b, nbits)\n"
   ]
  },
  {
   "cell_type": "code",
   "execution_count": 205,
   "metadata": {},
   "outputs": [
    {
     "name": "stdout",
     "output_type": "stream",
     "text": [
      "> Programa seguro! Provado por k-indução. (k=3)\n"
     ]
    },
    {
     "data": {
      "text/plain": [
       "True"
      ]
     },
     "execution_count": 205,
     "metadata": {},
     "output_type": "execute_result"
    }
   ],
   "source": [
    "vars = ['x', 'y', 'z', 'pc']  # Lista de variáveis de estado\n",
    "a = 2\n",
    "b = 4\n",
    "nbits = 8\n",
    "k = 3\n",
    "\n",
    "kinduction_s(vars, init_c, trans, error, k, a, b, nbits)\n"
   ]
  }
 ],
 "metadata": {
  "kernelspec": {
   "display_name": "Python 3",
   "language": "python",
   "name": "python3"
  },
  "language_info": {
   "codemirror_mode": {
    "name": "ipython",
    "version": 3
   },
   "file_extension": ".py",
   "mimetype": "text/x-python",
   "name": "python",
   "nbconvert_exporter": "python",
   "pygments_lexer": "ipython3",
   "version": "3.10.12"
  }
 },
 "nbformat": 4,
 "nbformat_minor": 2
}
